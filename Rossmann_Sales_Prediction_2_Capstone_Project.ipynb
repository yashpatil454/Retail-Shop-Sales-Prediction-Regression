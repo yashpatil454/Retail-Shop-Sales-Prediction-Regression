{
  "nbformat": 4,
  "nbformat_minor": 0,
  "metadata": {
    "colab": {
      "provenance": [],
      "authorship_tag": "ABX9TyMR/JkUgYcZNCP+O3fAGOUA",
      "include_colab_link": true
    },
    "kernelspec": {
      "name": "python3",
      "display_name": "Python 3"
    },
    "language_info": {
      "name": "python"
    },
    "accelerator": "GPU",
    "gpuClass": "standard"
  },
  "cells": [
    {
      "cell_type": "markdown",
      "metadata": {
        "id": "view-in-github",
        "colab_type": "text"
      },
      "source": [
        "<a href=\"https://colab.research.google.com/github/yashpatil454/Retail-Shop-Sales-Prediction-Regression-/blob/main/Rossmann_Sales_Prediction_2_Capstone_Project.ipynb\" target=\"_parent\"><img src=\"https://colab.research.google.com/assets/colab-badge.svg\" alt=\"Open In Colab\"/></a>"
      ]
    },
    {
      "cell_type": "code",
      "source": [
        "!pip install ipython-autotime\n",
        "%load_ext autotime"
      ],
      "metadata": {
        "colab": {
          "base_uri": "https://localhost:8080/"
        },
        "id": "nHEqo-GN3Ux8",
        "outputId": "4f8c6009-7aac-45ef-80b5-6de5a701bbe9"
      },
      "execution_count": 44,
      "outputs": [
        {
          "output_type": "stream",
          "name": "stdout",
          "text": [
            "Looking in indexes: https://pypi.org/simple, https://us-python.pkg.dev/colab-wheels/public/simple/\n",
            "Requirement already satisfied: ipython-autotime in /usr/local/lib/python3.8/dist-packages (0.3.1)\n",
            "Requirement already satisfied: ipython in /usr/local/lib/python3.8/dist-packages (from ipython-autotime) (7.9.0)\n",
            "Requirement already satisfied: setuptools>=18.5 in /usr/local/lib/python3.8/dist-packages (from ipython->ipython-autotime) (57.4.0)\n",
            "Requirement already satisfied: traitlets>=4.2 in /usr/local/lib/python3.8/dist-packages (from ipython->ipython-autotime) (5.7.1)\n",
            "Requirement already satisfied: pygments in /usr/local/lib/python3.8/dist-packages (from ipython->ipython-autotime) (2.6.1)\n",
            "Requirement already satisfied: backcall in /usr/local/lib/python3.8/dist-packages (from ipython->ipython-autotime) (0.2.0)\n",
            "Requirement already satisfied: pickleshare in /usr/local/lib/python3.8/dist-packages (from ipython->ipython-autotime) (0.7.5)\n",
            "Requirement already satisfied: decorator in /usr/local/lib/python3.8/dist-packages (from ipython->ipython-autotime) (4.4.2)\n",
            "Requirement already satisfied: pexpect in /usr/local/lib/python3.8/dist-packages (from ipython->ipython-autotime) (4.8.0)\n",
            "Requirement already satisfied: prompt-toolkit<2.1.0,>=2.0.0 in /usr/local/lib/python3.8/dist-packages (from ipython->ipython-autotime) (2.0.10)\n",
            "Requirement already satisfied: jedi>=0.10 in /usr/local/lib/python3.8/dist-packages (from ipython->ipython-autotime) (0.18.2)\n",
            "Requirement already satisfied: parso<0.9.0,>=0.8.0 in /usr/local/lib/python3.8/dist-packages (from jedi>=0.10->ipython->ipython-autotime) (0.8.3)\n",
            "Requirement already satisfied: six>=1.9.0 in /usr/local/lib/python3.8/dist-packages (from prompt-toolkit<2.1.0,>=2.0.0->ipython->ipython-autotime) (1.15.0)\n",
            "Requirement already satisfied: wcwidth in /usr/local/lib/python3.8/dist-packages (from prompt-toolkit<2.1.0,>=2.0.0->ipython->ipython-autotime) (0.2.5)\n",
            "Requirement already satisfied: ptyprocess>=0.5 in /usr/local/lib/python3.8/dist-packages (from pexpect->ipython->ipython-autotime) (0.7.0)\n",
            "The autotime extension is already loaded. To reload it, use:\n",
            "  %reload_ext autotime\n",
            "time: 4.67 s (started: 2023-01-24 07:17:13 +00:00)\n"
          ]
        }
      ]
    },
    {
      "cell_type": "code",
      "execution_count": 45,
      "metadata": {
        "id": "wF7WlFqbvgCh",
        "colab": {
          "base_uri": "https://localhost:8080/"
        },
        "outputId": "97d2e0e8-5ad4-4c1a-8f75-2aabf61c7921"
      },
      "outputs": [
        {
          "output_type": "stream",
          "name": "stdout",
          "text": [
            "Drive already mounted at /content/gdrive; to attempt to forcibly remount, call drive.mount(\"/content/gdrive\", force_remount=True).\n",
            "time: 3.45 s (started: 2023-01-24 07:17:17 +00:00)\n"
          ]
        }
      ],
      "source": [
        "#Importing ML libraries.\n",
        "import pandas as pd\n",
        "import numpy as np\n",
        "import seaborn as sns\n",
        "import matplotlib.pyplot as plt\n",
        "%matplotlib inline\n",
        "from sklearn.ensemble import RandomForestRegressor\n",
        "from sklearn.model_selection import RandomizedSearchCV\n",
        "from sklearn.preprocessing import StandardScaler\n",
        "#Importing metrics for model evaluation.\n",
        "from sklearn.metrics import mean_absolute_error\n",
        "from sklearn.metrics import mean_squared_error\n",
        "from sklearn.metrics import r2_score\n",
        "#Mounting drive\n",
        "from google.colab import drive\n",
        "drive.mount('/content/gdrive')\n",
        "#The default figure size to 8 inches by 5 inches and the figure resolution (dots per inch) to 100.\n",
        "plt.rcParams.update({'figure.figsize':(8,5),'figure.dpi':100})\n",
        "import warnings\n",
        "warnings.filterwarnings('ignore')"
      ]
    },
    {
      "cell_type": "code",
      "source": [
        "#For hosted runtime\n",
        "#Importing all the cleaned and splitted data\n",
        "X_train = pd.read_csv('/content/gdrive/MyDrive/Retail Sales Prediction/traintestdata/X_train.csv', parse_dates=['Date'])\n",
        "X_test = pd.read_csv('/content/gdrive/MyDrive/Retail Sales Prediction/traintestdata/X_test.csv', parse_dates=['Date'])\n",
        "y_train = pd.read_csv('/content/gdrive/MyDrive/Retail Sales Prediction/traintestdata/y_train.csv')\n",
        "y_test = pd.read_csv('/content/gdrive/MyDrive/Retail Sales Prediction/traintestdata/y_test.csv')\n",
        "comparison_df = pd.read_csv('/content/gdrive/MyDrive/Retail Sales Prediction/traintestdata/comparison_df.csv')\n",
        "\n",
        "#For local runtime\n",
        "# X_train = pd.read_csv('C:/Users/91814/Desktop/Retail_project/X_train.csv')\n",
        "# X_test = pd.read_csv('C:/Users/91814/Desktop/Retail_project/X_test.csv')\n",
        "# y_train = pd.read_csv('C:/Users/91814/Desktop/Retail_project/y_train.csv')\n",
        "# y_test = pd.read_csv('C:/Users/91814/Desktop/Retail_project/y_test.csv')\n",
        "# comparison_df = pd.read_csv('C:/Users/91814/Desktop/Retail_project/comparison_df.csv')"
      ],
      "metadata": {
        "id": "lH4C1V5p_nIW",
        "colab": {
          "base_uri": "https://localhost:8080/"
        },
        "outputId": "0fd75b8f-916b-4c72-ec92-1aed29b69215"
      },
      "execution_count": 49,
      "outputs": [
        {
          "output_type": "stream",
          "name": "stdout",
          "text": [
            "time: 2.89 s (started: 2023-01-24 07:18:22 +00:00)\n"
          ]
        }
      ]
    },
    {
      "cell_type": "code",
      "source": [
        "#Setting date and store as index\n",
        "X_train.set_index(['Date','Store'],inplace=True)\n",
        "X_test.set_index(['Date','Store'],inplace=True)\n",
        "y_train.set_index(['Date','Store'],inplace=True)\n",
        "y_test.set_index(['Date','Store'],inplace=True)"
      ],
      "metadata": {
        "id": "PvXkpyESAZWk",
        "colab": {
          "base_uri": "https://localhost:8080/"
        },
        "outputId": "2e140ad6-dd99-4fdd-dec1-22f0be940e06"
      },
      "execution_count": 50,
      "outputs": [
        {
          "output_type": "stream",
          "name": "stdout",
          "text": [
            "time: 143 ms (started: 2023-01-24 07:18:26 +00:00)\n"
          ]
        }
      ]
    },
    {
      "cell_type": "code",
      "source": [
        "#Scaling the data for better model predictions.\n",
        "from sklearn.preprocessing import StandardScaler\n",
        "\n",
        "#Scaling the train and test data.\n",
        "scale = StandardScaler()\n",
        "X_train[list(X_train.columns)] = scale.fit_transform(X_train[list(X_train.columns)])\n",
        "X_test[list(X_test.columns)] = scale.transform(X_test[list(X_test.columns)])\n",
        "\n",
        "scaler = StandardScaler()\n",
        "y_train[list(y_train.columns)] = scaler.fit_transform(y_train[list(y_train.columns)])\n",
        "y_test[list(y_test.columns)] = scaler.transform(y_test[list(y_train.columns)])"
      ],
      "metadata": {
        "id": "f5i1lTVmaPVs",
        "colab": {
          "base_uri": "https://localhost:8080/"
        },
        "outputId": "6a2d36e5-fa3c-4c50-99cc-05dcd760114a"
      },
      "execution_count": 51,
      "outputs": [
        {
          "output_type": "stream",
          "name": "stdout",
          "text": [
            "time: 871 ms (started: 2023-01-24 07:18:26 +00:00)\n"
          ]
        }
      ]
    },
    {
      "cell_type": "code",
      "source": [
        "#Creating a method for model evaluation that gives us the calculated metrics.\n",
        "def model_eval(model, model_name):\n",
        "  #making predictions\n",
        "  y_pred_train = model.predict(X_train)\n",
        "  y_pred_test = model.predict(X_test)\n",
        "\n",
        "  #Calculating metrices\n",
        "  #Mean Absolute Error\n",
        "  MAE_train = round(mean_absolute_error(y_train,y_pred_train),4)\n",
        "  MAE_test = round(mean_absolute_error(y_test,y_pred_test),4) \n",
        "  #Mean Squared Error \n",
        "  MSE_train = round(mean_squared_error(y_train,y_pred_train),4)\n",
        "  MSE_test = round(mean_squared_error(y_test,y_pred_test),4)\n",
        "  #Root Mean Squared Error \n",
        "  RMSE_train = round(mean_squared_error(y_train,y_pred_train,squared=False),6)\n",
        "  RMSE_test = round(mean_squared_error(y_test,y_pred_test,squared=False),6)\n",
        "  #R2\n",
        "  R2_train = round(r2_score(y_train, y_pred_train),6)\n",
        "  R2_test = round(r2_score(y_test, y_pred_test),6)\n",
        "  #Adjusted R2\n",
        "  n1 = len(y_train)\n",
        "  n2 = len(y_test)\n",
        "  k1 = X_train.shape[1]\n",
        "  k2 = X_test.shape[1]\n",
        "  Adj_r2_train = round(1 - (1-R2_train) * (n1-1) / (n1-k1-1), 4)\n",
        "  Adj_r2_test = round(1 - (1-R2_test) * (n2-1) / (n2-k2-1), 4)\n",
        "\n",
        "  #Printing the results\n",
        "  print(f'The Mean Absolute Error for the validation set is {MAE_test}')\n",
        "  print(f'The Mean Squared Error for the validation set is {MSE_test}')\n",
        "  print(f'The Root Mean Squared Error for the validation set is {RMSE_test}')\n",
        "  print(f'The R^2 for the validation set is {R2_test}')\n",
        "  print(f'The Adjusted R^2 for the validation set is {Adj_r2_test}')\n",
        "\n",
        "  #plotting the predictions\n",
        "  y_true = y_test.copy()\n",
        "  y_true['Pred Sales'] = y_pred_test.tolist()\n",
        "  df_plot = y_true.reset_index(level=['Date']).groupby('Date')['Sales','Pred Sales'].sum()\n",
        "  ax = sns.lineplot(data=df_plot)\n",
        "  ax.xaxis.set_major_locator(plt.MaxNLocator(10))\n",
        "  # sns.lineplot(data = df_plot)\n",
        "  plt.ylabel(\"Total Sales and Predicted Sales\")\n",
        "  plt.xticks(rotation = 15)\n",
        "\n",
        "  #Saving our results\n",
        "  metric_scores = [model_name,MAE_train,MSE_train,RMSE_train,R2_train,Adj_r2_train,MAE_test,MSE_test,RMSE_test,R2_test,Adj_r2_test]\n",
        "  return metric_scores"
      ],
      "metadata": {
        "id": "7B8NMEaxqA9y",
        "colab": {
          "base_uri": "https://localhost:8080/"
        },
        "outputId": "e3f63648-a5e5-402a-f2a5-400af1bc16fc"
      },
      "execution_count": 52,
      "outputs": [
        {
          "output_type": "stream",
          "name": "stdout",
          "text": [
            "time: 5.47 ms (started: 2023-01-24 07:18:27 +00:00)\n"
          ]
        }
      ]
    },
    {
      "cell_type": "markdown",
      "source": [
        "###Random Forest Hyperparameter Tuning\n",
        "\n",
        "Hyperparameter tuning is the process of adjusting the parameters of the algorithm to optimize its performance. "
      ],
      "metadata": {
        "id": "f6BfstvRWTCv"
      }
    },
    {
      "cell_type": "code",
      "source": [
        "#Initializing RandomForestRegressor for hyperparameter tuning.\n",
        "randomForest_tuned = RandomForestRegressor(random_state=45)"
      ],
      "metadata": {
        "id": "XG1Us9Bsa-7K",
        "colab": {
          "base_uri": "https://localhost:8080/"
        },
        "outputId": "4ad3ba18-7281-4303-ff05-9a8f140936d9"
      },
      "execution_count": 53,
      "outputs": [
        {
          "output_type": "stream",
          "name": "stdout",
          "text": [
            "time: 1.22 ms (started: 2023-01-24 07:18:27 +00:00)\n"
          ]
        }
      ]
    },
    {
      "cell_type": "code",
      "source": [
        "# Number of trees in random forest\n",
        "n_estimators = [int(x) for x in np.linspace(start = 50, stop = 200, num = 3)]\n",
        "# Number of features to consider at every split\n",
        "max_features = ['auto', 'sqrt']\n",
        "# Maximum number of levels in tree\n",
        "max_depth = [int(x) for x in np.linspace(10, 110, num = 3)]\n",
        "max_depth.append(None)\n",
        "# Minimum number of samples required to split a node\n",
        "min_samples_split = [2, 5, 10]\n",
        "# Minimum number of samples required at each leaf node\n",
        "min_samples_leaf = [1, 2, 4]\n",
        "# Method of selecting samples for training each tree\n",
        "bootstrap = [True, False]\n",
        "# Create the random grid\n",
        "random_grid = {'n_estimators': n_estimators,\n",
        "               'max_features': max_features,\n",
        "               'max_depth': max_depth,\n",
        "               'min_samples_split': min_samples_split,\n",
        "               'min_samples_leaf': min_samples_leaf,\n",
        "               'bootstrap': bootstrap}\n",
        "\n",
        "print(random_grid)"
      ],
      "metadata": {
        "colab": {
          "base_uri": "https://localhost:8080/"
        },
        "id": "40KWj1PYbveo",
        "outputId": "40dd5165-9e36-4dee-b837-f63280d68c42"
      },
      "execution_count": 54,
      "outputs": [
        {
          "output_type": "stream",
          "name": "stdout",
          "text": [
            "{'n_estimators': [50, 125, 200], 'max_features': ['auto', 'sqrt'], 'max_depth': [10, 60, 110, None], 'min_samples_split': [2, 5, 10], 'min_samples_leaf': [1, 2, 4], 'bootstrap': [True, False]}\n",
            "time: 5.16 ms (started: 2023-01-24 07:18:27 +00:00)\n"
          ]
        }
      ]
    },
    {
      "cell_type": "code",
      "source": [
        "#Feeding the param_grid to the model\n",
        "rf_random_tuned = RandomizedSearchCV(estimator = randomForest_tuned, param_distributions = random_grid, n_iter = 20, cv = 3, verbose=5, random_state=45, n_jobs = -1)\n",
        "#Fit the random search model\n",
        "rf_random_tuned.fit(X_train,y_train)\n",
        "randomForest_tuned.best_params_"
      ],
      "metadata": {
        "colab": {
          "base_uri": "https://localhost:8080/"
        },
        "id": "H0miUOmxdqOx",
        "outputId": "af497256-68f6-4395-f54f-84b18c63b849"
      },
      "execution_count": 55,
      "outputs": [
        {
          "output_type": "execute_result",
          "data": {
            "text/plain": [
              "DecisionTreeRegressor(random_state=45)"
            ]
          },
          "metadata": {},
          "execution_count": 55
        },
        {
          "output_type": "stream",
          "name": "stdout",
          "text": [
            "time: 12.5 s (started: 2023-01-24 07:18:27 +00:00)\n"
          ]
        }
      ]
    },
    {
      "cell_type": "code",
      "source": [
        "#Evaluating the model by visualizing it and by metrics\n",
        "Random_forest_tuned = model_eval(rf_random_tuned, 'Random Forest Regressor Tuned')\n",
        "comparison_df.drop('Unnamed: 0', inplace = True, axis = 1)\n",
        "comparison_df = comparison_df.append(pd.DataFrame([Random_forest_tuned], columns=comparison_df.columns), ignore_index=True)"
      ],
      "metadata": {
        "id": "6b7s80y8dy3i",
        "colab": {
          "base_uri": "https://localhost:8080/",
          "height": 589
        },
        "outputId": "dae42873-0de4-4966-ee60-a8ce3fb5b68d"
      },
      "execution_count": 57,
      "outputs": [
        {
          "output_type": "stream",
          "name": "stdout",
          "text": [
            "The Mean Absolute Error for the validation set is 0.1983\n",
            "The Mean Squared Error for the validation set is 0.0751\n",
            "The Root Mean Squared Error for the validation set is 0.274107\n",
            "The R^2 for the validation set is 0.920237\n",
            "The Adjusted R^2 for the validation set is 0.9202\n"
          ]
        },
        {
          "output_type": "display_data",
          "data": {
            "text/plain": [
              "<Figure size 800x500 with 1 Axes>"
            ],
            "image/png": "[encoded data removed]"
          },
          "metadata": {
            "needs_background": "light"
          }
        },
        {
          "output_type": "stream",
          "name": "stdout",
          "text": [
            "time: 1.73 s (started: 2023-01-24 07:19:01 +00:00)\n"
          ]
        }
      ]
    },
    {
      "cell_type": "markdown",
      "source": [
        "###Pickling the model :) "
      ],
      "metadata": {
        "id": "ijzpTNMfdmDx"
      }
    },
    {
      "cell_type": "code",
      "source": [
        "#Saving the trained Decesion Tree Regressor model on the drive\n",
        "pickle.dump(rf_random_tuned, open(\"/content/gdrive/MyDrive/Retail Sales Prediction/Random_Forest_Tuned_Model.pkl\", \"wb\"))"
      ],
      "metadata": {
        "id": "ouk9DARldmEI"
      },
      "execution_count": null,
      "outputs": []
    },
    {
      "cell_type": "code",
      "source": [
        "#parameters used in random forest\n",
        "print('Parameters currently in use:')\n",
        "print(rf_random_tuned.get_params())"
      ],
      "metadata": {
        "id": "Q-L0Ooa0vwYg"
      },
      "execution_count": null,
      "outputs": []
    },
    {
      "cell_type": "code",
      "source": [
        "#Our final comparison_df\n",
        "comparison_df"
      ],
      "metadata": {
        "id": "thn8CYSUELAC"
      },
      "execution_count": null,
      "outputs": []
    },
    {
      "cell_type": "code",
      "source": [
        "#Saving final comparison_df to drive\n",
        "comparison_df.to_csv('/content/gdrive/MyDrive/Retail Sales Prediction/traintestdata/comparison_df.csv')"
      ],
      "metadata": {
        "id": "WwghfxBPsFhG"
      },
      "execution_count": null,
      "outputs": []
    },
    {
      "cell_type": "code",
      "source": [
        "#Visualising our comparison_df for Test_R2\n",
        "sns.barplot(x = comparison_df['Model_Name'], y = comparison_df['Test_R2'])"
      ],
      "metadata": {
        "id": "fbdULLTVwfR4"
      },
      "execution_count": null,
      "outputs": []
    },
    {
      "cell_type": "markdown",
      "source": [
        "###Predictions of sales by store."
      ],
      "metadata": {
        "id": "3CyiXcm90C5Q"
      }
    },
    {
      "cell_type": "code",
      "execution_count": 58,
      "metadata": {
        "id": "D5zFmr2g1E1p",
        "colab": {
          "base_uri": "https://localhost:8080/",
          "height": 256
        },
        "outputId": "4b9f8bf7-3843-4d4a-dab1-ff41ee1d70ca"
      },
      "outputs": [
        {
          "output_type": "execute_result",
          "data": {
            "text/plain": [
              "                     Sales  Pred_Sales\n",
              "Date       Store                      \n",
              "2015-06-15 1     -0.328664   -0.391628\n",
              "           2      0.574378    0.358506\n",
              "           3      1.252047    1.076800\n",
              "           4      1.572145    1.379412\n",
              "           5      0.486429    0.504702"
            ],
            "text/html": [
              "\n",
              "  <div id=\"df-69c30a59-629f-4fcc-b614-099d686823f7\">\n",
              "    <div class=\"colab-df-container\">\n",
              "      <div>\n",
              "<style scoped>\n",
              "    .dataframe tbody tr th:only-of-type {\n",
              "        vertical-align: middle;\n",
              "    }\n",
              "\n",
              "    .dataframe tbody tr th {\n",
              "        vertical-align: top;\n",
              "    }\n",
              "\n",
              "    .dataframe thead th {\n",
              "        text-align: right;\n",
              "    }\n",
              "</style>\n",
              "<table border=\"1\" class=\"dataframe\">\n",
              "  <thead>\n",
              "    <tr style=\"text-align: right;\">\n",
              "      <th></th>\n",
              "      <th></th>\n",
              "      <th>Sales</th>\n",
              "      <th>Pred_Sales</th>\n",
              "    </tr>\n",
              "    <tr>\n",
              "      <th>Date</th>\n",
              "      <th>Store</th>\n",
              "      <th></th>\n",
              "      <th></th>\n",
              "    </tr>\n",
              "  </thead>\n",
              "  <tbody>\n",
              "    <tr>\n",
              "      <th rowspan=\"5\" valign=\"top\">2015-06-15</th>\n",
              "      <th>1</th>\n",
              "      <td>-0.328664</td>\n",
              "      <td>-0.391628</td>\n",
              "    </tr>\n",
              "    <tr>\n",
              "      <th>2</th>\n",
              "      <td>0.574378</td>\n",
              "      <td>0.358506</td>\n",
              "    </tr>\n",
              "    <tr>\n",
              "      <th>3</th>\n",
              "      <td>1.252047</td>\n",
              "      <td>1.076800</td>\n",
              "    </tr>\n",
              "    <tr>\n",
              "      <th>4</th>\n",
              "      <td>1.572145</td>\n",
              "      <td>1.379412</td>\n",
              "    </tr>\n",
              "    <tr>\n",
              "      <th>5</th>\n",
              "      <td>0.486429</td>\n",
              "      <td>0.504702</td>\n",
              "    </tr>\n",
              "  </tbody>\n",
              "</table>\n",
              "</div>\n",
              "      <button class=\"colab-df-convert\" onclick=\"convertToInteractive('df-69c30a59-629f-4fcc-b614-099d686823f7')\"\n",
              "              title=\"Convert this dataframe to an interactive table.\"\n",
              "              style=\"display:none;\">\n",
              "        \n",
              "  <svg xmlns=\"http://www.w3.org/2000/svg\" height=\"24px\"viewBox=\"0 0 24 24\"\n",
              "       width=\"24px\">\n",
              "    <path d=\"M0 0h24v24H0V0z\" fill=\"none\"/>\n",
              "    <path d=\"M18.56 5.44l.94 2.06.94-2.06 2.06-.94-2.06-.94-.94-2.06-.94 2.06-2.06.94zm-11 1L8.5 8.5l.94-2.06 2.06-.94-2.06-.94L8.5 2.5l-.94 2.06-2.06.94zm10 10l.94 2.06.94-2.06 2.06-.94-2.06-.94-.94-2.06-.94 2.06-2.06.94z\"/><path d=\"M17.41 7.96l-1.37-1.37c-.4-.4-.92-.59-1.43-.59-.52 0-1.04.2-1.43.59L10.3 9.45l-7.72 7.72c-.78.78-.78 2.05 0 2.83L4 21.41c.39.39.9.59 1.41.59.51 0 1.02-.2 1.41-.59l7.78-7.78 2.81-2.81c.8-.78.8-2.07 0-2.86zM5.41 20L4 18.59l7.72-7.72 1.47 1.35L5.41 20z\"/>\n",
              "  </svg>\n",
              "      </button>\n",
              "      \n",
              "  <style>\n",
              "    .colab-df-container {\n",
              "      display:flex;\n",
              "      flex-wrap:wrap;\n",
              "      gap: 12px;\n",
              "    }\n",
              "\n",
              "    .colab-df-convert {\n",
              "      background-color: #E8F0FE;\n",
              "      border: none;\n",
              "      border-radius: 50%;\n",
              "      cursor: pointer;\n",
              "      display: none;\n",
              "      fill: #1967D2;\n",
              "      height: 32px;\n",
              "      padding: 0 0 0 0;\n",
              "      width: 32px;\n",
              "    }\n",
              "\n",
              "    .colab-df-convert:hover {\n",
              "      background-color: #E2EBFA;\n",
              "      box-shadow: 0px 1px 2px rgba(60, 64, 67, 0.3), 0px 1px 3px 1px rgba(60, 64, 67, 0.15);\n",
              "      fill: #174EA6;\n",
              "    }\n",
              "\n",
              "    [theme=dark] .colab-df-convert {\n",
              "      background-color: #3B4455;\n",
              "      fill: #D2E3FC;\n",
              "    }\n",
              "\n",
              "    [theme=dark] .colab-df-convert:hover {\n",
              "      background-color: #434B5C;\n",
              "      box-shadow: 0px 1px 3px 1px rgba(0, 0, 0, 0.15);\n",
              "      filter: drop-shadow(0px 1px 2px rgba(0, 0, 0, 0.3));\n",
              "      fill: #FFFFFF;\n",
              "    }\n",
              "  </style>\n",
              "\n",
              "      <script>\n",
              "        const buttonEl =\n",
              "          document.querySelector('#df-69c30a59-629f-4fcc-b614-099d686823f7 button.colab-df-convert');\n",
              "        buttonEl.style.display =\n",
              "          google.colab.kernel.accessAllowed ? 'block' : 'none';\n",
              "\n",
              "        async function convertToInteractive(key) {\n",
              "          const element = document.querySelector('#df-69c30a59-629f-4fcc-b614-099d686823f7');\n",
              "          const dataTable =\n",
              "            await google.colab.kernel.invokeFunction('convertToInteractive',\n",
              "                                                     [key], {});\n",
              "          if (!dataTable) return;\n",
              "\n",
              "          const docLinkHtml = 'Like what you see? Visit the ' +\n",
              "            '<a target=\"_blank\" href=https://colab.research.google.com/notebooks/data_table.ipynb>data table notebook</a>'\n",
              "            + ' to learn more about interactive tables.';\n",
              "          element.innerHTML = '';\n",
              "          dataTable['output_type'] = 'display_data';\n",
              "          await google.colab.output.renderOutput(dataTable, element);\n",
              "          const docLink = document.createElement('div');\n",
              "          docLink.innerHTML = docLinkHtml;\n",
              "          element.appendChild(docLink);\n",
              "        }\n",
              "      </script>\n",
              "    </div>\n",
              "  </div>\n",
              "  "
            ]
          },
          "metadata": {},
          "execution_count": 58
        },
        {
          "output_type": "stream",
          "name": "stdout",
          "text": [
            "time: 89.6 ms (started: 2023-01-24 07:19:28 +00:00)\n"
          ]
        }
      ],
      "source": [
        "#Making predictions to determine the store sales\n",
        "y_pred_test = rf_random_tuned.predict(X_test)\n",
        "store_sales = y_test.copy()\n",
        "store_sales['Pred_Sales'] = y_pred_test.tolist()"
      ]
    },
    {
      "cell_type": "code",
      "execution_count": 60,
      "metadata": {
        "id": "oKwtvUjc1wuD",
        "colab": {
          "base_uri": "https://localhost:8080/"
        },
        "outputId": "743f319d-c2d1-4b9c-84e2-772dacefd5e9"
      },
      "outputs": [
        {
          "output_type": "stream",
          "name": "stdout",
          "text": [
            "time: 7.19 ms (started: 2023-01-24 07:19:40 +00:00)\n"
          ]
        }
      ],
      "source": [
        "#inverse_transforming the sales and predicited sales column\n",
        "store_sales[store_sales.columns.tolist()] = scaler.inverse_transform(store_sales[store_sales.columns.tolist()])"
      ]
    },
    {
      "cell_type": "code",
      "source": [
        "#Inversing the Logarithmic transformation made on the dataset in part 1 so that we get originl sales values\n",
        "store_sales[store_sales.columns.tolist()] = np.exp(store_sales[store_sales.columns.tolist()])"
      ],
      "metadata": {
        "colab": {
          "base_uri": "https://localhost:8080/"
        },
        "id": "PdVbQ-avoXbu",
        "outputId": "d2ff2d52-7195-433b-d9c6-ba3c46ac9d46"
      },
      "execution_count": 61,
      "outputs": [
        {
          "output_type": "stream",
          "name": "stdout",
          "text": [
            "time: 9.4 ms (started: 2023-01-24 07:20:22 +00:00)\n"
          ]
        }
      ]
    },
    {
      "cell_type": "code",
      "source": [
        "#sales vs predictions\n",
        "store_sales.head()"
      ],
      "metadata": {
        "id": "vEe3w0H4NSG0",
        "colab": {
          "base_uri": "https://localhost:8080/",
          "height": 256
        },
        "outputId": "eb1f587e-635c-4b36-9c27-edc4e91c4767"
      },
      "execution_count": 62,
      "outputs": [
        {
          "output_type": "execute_result",
          "data": {
            "text/plain": [
              "                    Sales  Pred_Sales\n",
              "Date       Store                     \n",
              "2015-06-15 1       5518.0      5372.0\n",
              "           2       8106.0      7394.0\n",
              "           3      10818.0     10040.0\n",
              "           4      12398.0     11421.0\n",
              "           5       7808.0      7869.0"
            ],
            "text/html": [
              "\n",
              "  <div id=\"df-24ed439a-617d-462e-b3b2-419d257639b3\">\n",
              "    <div class=\"colab-df-container\">\n",
              "      <div>\n",
              "<style scoped>\n",
              "    .dataframe tbody tr th:only-of-type {\n",
              "        vertical-align: middle;\n",
              "    }\n",
              "\n",
              "    .dataframe tbody tr th {\n",
              "        vertical-align: top;\n",
              "    }\n",
              "\n",
              "    .dataframe thead th {\n",
              "        text-align: right;\n",
              "    }\n",
              "</style>\n",
              "<table border=\"1\" class=\"dataframe\">\n",
              "  <thead>\n",
              "    <tr style=\"text-align: right;\">\n",
              "      <th></th>\n",
              "      <th></th>\n",
              "      <th>Sales</th>\n",
              "      <th>Pred_Sales</th>\n",
              "    </tr>\n",
              "    <tr>\n",
              "      <th>Date</th>\n",
              "      <th>Store</th>\n",
              "      <th></th>\n",
              "      <th></th>\n",
              "    </tr>\n",
              "  </thead>\n",
              "  <tbody>\n",
              "    <tr>\n",
              "      <th rowspan=\"5\" valign=\"top\">2015-06-15</th>\n",
              "      <th>1</th>\n",
              "      <td>5518.0</td>\n",
              "      <td>5372.0</td>\n",
              "    </tr>\n",
              "    <tr>\n",
              "      <th>2</th>\n",
              "      <td>8106.0</td>\n",
              "      <td>7394.0</td>\n",
              "    </tr>\n",
              "    <tr>\n",
              "      <th>3</th>\n",
              "      <td>10818.0</td>\n",
              "      <td>10040.0</td>\n",
              "    </tr>\n",
              "    <tr>\n",
              "      <th>4</th>\n",
              "      <td>12398.0</td>\n",
              "      <td>11421.0</td>\n",
              "    </tr>\n",
              "    <tr>\n",
              "      <th>5</th>\n",
              "      <td>7808.0</td>\n",
              "      <td>7869.0</td>\n",
              "    </tr>\n",
              "  </tbody>\n",
              "</table>\n",
              "</div>\n",
              "      <button class=\"colab-df-convert\" onclick=\"convertToInteractive('df-24ed439a-617d-462e-b3b2-419d257639b3')\"\n",
              "              title=\"Convert this dataframe to an interactive table.\"\n",
              "              style=\"display:none;\">\n",
              "        \n",
              "  <svg xmlns=\"http://www.w3.org/2000/svg\" height=\"24px\"viewBox=\"0 0 24 24\"\n",
              "       width=\"24px\">\n",
              "    <path d=\"M0 0h24v24H0V0z\" fill=\"none\"/>\n",
              "    <path d=\"M18.56 5.44l.94 2.06.94-2.06 2.06-.94-2.06-.94-.94-2.06-.94 2.06-2.06.94zm-11 1L8.5 8.5l.94-2.06 2.06-.94-2.06-.94L8.5 2.5l-.94 2.06-2.06.94zm10 10l.94 2.06.94-2.06 2.06-.94-2.06-.94-.94-2.06-.94 2.06-2.06.94z\"/><path d=\"M17.41 7.96l-1.37-1.37c-.4-.4-.92-.59-1.43-.59-.52 0-1.04.2-1.43.59L10.3 9.45l-7.72 7.72c-.78.78-.78 2.05 0 2.83L4 21.41c.39.39.9.59 1.41.59.51 0 1.02-.2 1.41-.59l7.78-7.78 2.81-2.81c.8-.78.8-2.07 0-2.86zM5.41 20L4 18.59l7.72-7.72 1.47 1.35L5.41 20z\"/>\n",
              "  </svg>\n",
              "      </button>\n",
              "      \n",
              "  <style>\n",
              "    .colab-df-container {\n",
              "      display:flex;\n",
              "      flex-wrap:wrap;\n",
              "      gap: 12px;\n",
              "    }\n",
              "\n",
              "    .colab-df-convert {\n",
              "      background-color: #E8F0FE;\n",
              "      border: none;\n",
              "      border-radius: 50%;\n",
              "      cursor: pointer;\n",
              "      display: none;\n",
              "      fill: #1967D2;\n",
              "      height: 32px;\n",
              "      padding: 0 0 0 0;\n",
              "      width: 32px;\n",
              "    }\n",
              "\n",
              "    .colab-df-convert:hover {\n",
              "      background-color: #E2EBFA;\n",
              "      box-shadow: 0px 1px 2px rgba(60, 64, 67, 0.3), 0px 1px 3px 1px rgba(60, 64, 67, 0.15);\n",
              "      fill: #174EA6;\n",
              "    }\n",
              "\n",
              "    [theme=dark] .colab-df-convert {\n",
              "      background-color: #3B4455;\n",
              "      fill: #D2E3FC;\n",
              "    }\n",
              "\n",
              "    [theme=dark] .colab-df-convert:hover {\n",
              "      background-color: #434B5C;\n",
              "      box-shadow: 0px 1px 3px 1px rgba(0, 0, 0, 0.15);\n",
              "      filter: drop-shadow(0px 1px 2px rgba(0, 0, 0, 0.3));\n",
              "      fill: #FFFFFF;\n",
              "    }\n",
              "  </style>\n",
              "\n",
              "      <script>\n",
              "        const buttonEl =\n",
              "          document.querySelector('#df-24ed439a-617d-462e-b3b2-419d257639b3 button.colab-df-convert');\n",
              "        buttonEl.style.display =\n",
              "          google.colab.kernel.accessAllowed ? 'block' : 'none';\n",
              "\n",
              "        async function convertToInteractive(key) {\n",
              "          const element = document.querySelector('#df-24ed439a-617d-462e-b3b2-419d257639b3');\n",
              "          const dataTable =\n",
              "            await google.colab.kernel.invokeFunction('convertToInteractive',\n",
              "                                                     [key], {});\n",
              "          if (!dataTable) return;\n",
              "\n",
              "          const docLinkHtml = 'Like what you see? Visit the ' +\n",
              "            '<a target=\"_blank\" href=https://colab.research.google.com/notebooks/data_table.ipynb>data table notebook</a>'\n",
              "            + ' to learn more about interactive tables.';\n",
              "          element.innerHTML = '';\n",
              "          dataTable['output_type'] = 'display_data';\n",
              "          await google.colab.output.renderOutput(dataTable, element);\n",
              "          const docLink = document.createElement('div');\n",
              "          docLink.innerHTML = docLinkHtml;\n",
              "          element.appendChild(docLink);\n",
              "        }\n",
              "      </script>\n",
              "    </div>\n",
              "  </div>\n",
              "  "
            ]
          },
          "metadata": {},
          "execution_count": 62
        },
        {
          "output_type": "stream",
          "name": "stdout",
          "text": [
            "time: 12.4 ms (started: 2023-01-24 07:20:25 +00:00)\n"
          ]
        }
      ]
    },
    {
      "cell_type": "code",
      "source": [
        "#Checking the expected sales. \n",
        "store_sales.loc[('2015-07-28',50)]"
      ],
      "metadata": {
        "id": "nUYsbETfPIYt",
        "colab": {
          "base_uri": "https://localhost:8080/"
        },
        "outputId": "05689221-55c6-43db-fe9d-d4ec137b9454"
      },
      "execution_count": 64,
      "outputs": [
        {
          "output_type": "execute_result",
          "data": {
            "text/plain": [
              "Sales         8400.0\n",
              "Pred_Sales    8357.0\n",
              "Name: (2015-07-28, 56), dtype: float64"
            ]
          },
          "metadata": {},
          "execution_count": 64
        },
        {
          "output_type": "stream",
          "name": "stdout",
          "text": [
            "time: 9.05 ms (started: 2023-01-24 07:20:36 +00:00)\n"
          ]
        }
      ]
    },
    {
      "cell_type": "markdown",
      "metadata": {
        "id": "j3z_mpZK3IQ8"
      },
      "source": [
        "##Conclusion and Recommendations\n",
        "**Conclusion**\n",
        "\n",
        "Companies use sales predictions to estimate their future revenue, which allows them to make informed decisions and strategic business plans. These plans, such as budgets, hiring, incentives, goals, acquisitions, and growth strategies, are heavily dependent on the projected revenue for the upcoming months. Therefore, accurate sales forecasts are crucial for the success of these plans.\n",
        "\n",
        "This study aims to predict the sales of various Rossmann stores across Europe for the past six weeks, and compares the outcomes of the developed models with the actual sales figures.\n",
        "\n",
        "The analysis yielded several key findings, including:\n",
        "* A higher number of sales were observed on Mondays, likely due to many stores being closed on Sundays and resulting in the lowest sales for that day.\n",
        "* The positive impact of promotions on customer and sales numbers was evident.\n",
        "* Most stores had competition distances within 0-10km, and these stores had higher sales than stores located further away, potentially indicating more competition in busier locations.\n",
        "* Despite having fewer stores, store type B had the highest sales average, likely due to having all three types of assortments, particularly assortment level B, and being open on Sundays.\n",
        "* The Random Forest Tuned Model produced the almost same results as compared to basic Random Forest Model, suggesting that the model captured all relevant trends and patterns without overfitting and achieved the maximum level of performance possible.\n",
        "\n",
        "**Recommendations**\n",
        "* More stores should be encouraged to participate in promotions.\n",
        "* The number of store type B should be increased.\n",
        "* To take advantage of seasonal trends, stores should be encouraged to promote during holidays.\n"
      ]
    }
  ]
}
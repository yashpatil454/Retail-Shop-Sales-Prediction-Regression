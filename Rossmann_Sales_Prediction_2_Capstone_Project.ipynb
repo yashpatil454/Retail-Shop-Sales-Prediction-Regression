{
  "nbformat": 4,
  "nbformat_minor": 0,
  "metadata": {
    "colab": {
      "provenance": [],
      "authorship_tag": "ABX9TyPCzQL3Cpm2WAFkwvZnvstl",
      "include_colab_link": true
    },
    "kernelspec": {
      "name": "python3",
      "display_name": "Python 3"
    },
    "language_info": {
      "name": "python"
    },
    "accelerator": "GPU",
    "gpuClass": "standard"
  },
  "cells": [
    {
      "cell_type": "markdown",
      "metadata": {
        "id": "view-in-github",
        "colab_type": "text"
      },
      "source": [
        "<a href=\"https://colab.research.google.com/github/yashpatil454/Retail-Shop-Sales-Prediction-Regression/blob/main/Rossmann_Sales_Prediction_2_Capstone_Project.ipynb\" target=\"_parent\"><img src=\"https://colab.research.google.com/assets/colab-badge.svg\" alt=\"Open In Colab\"/></a>"
      ]
    },
    {
      "cell_type": "code",
      "execution_count": 23,
      "metadata": {
        "id": "wF7WlFqbvgCh",
        "colab": {
          "base_uri": "https://localhost:8080/"
        },
        "outputId": "b06c3980-54ca-410a-a114-01bd8a1bd424"
      },
      "outputs": [
        {
          "output_type": "stream",
          "name": "stdout",
          "text": [
            "Drive already mounted at /content/gdrive; to attempt to forcibly remount, call drive.mount(\"/content/gdrive\", force_remount=True).\n"
          ]
        }
      ],
      "source": [
        "#Importing ML libraries.\n",
        "import pandas as pd\n",
        "import numpy as np\n",
        "import seaborn as sns\n",
        "import matplotlib.pyplot as plt\n",
        "%matplotlib inline\n",
        "from xgboost import XGBRegressor\n",
        "from sklearn.model_selection import RandomizedSearchCV\n",
        "from sklearn.preprocessing import StandardScaler\n",
        "from scipy.stats import uniform, randint\n",
        "import pickle\n",
        "#Importing metrics for model evaluation.\n",
        "from sklearn.metrics import mean_absolute_error\n",
        "from sklearn.metrics import mean_squared_error\n",
        "from sklearn.metrics import r2_score\n",
        "#Mounting drive\n",
        "from google.colab import drive\n",
        "drive.mount('/content/gdrive')\n",
        "#The default figure size to 8 inches by 5 inches and the figure resolution (dots per inch) to 100.\n",
        "plt.rcParams.update({'figure.figsize':(8,5),'figure.dpi':100})\n",
        "import warnings\n",
        "warnings.filterwarnings('ignore')"
      ]
    },
    {
      "cell_type": "code",
      "source": [
        "#For hosted runtime\n",
        "#Importing all the cleaned and splitted data\n",
        "X_train = pd.read_csv('/content/gdrive/MyDrive/Retail Sales Prediction/traintestdata/X_train.csv', parse_dates=['Date'])\n",
        "X_test = pd.read_csv('/content/gdrive/MyDrive/Retail Sales Prediction/traintestdata/X_test.csv', parse_dates=['Date'])\n",
        "y_train = pd.read_csv('/content/gdrive/MyDrive/Retail Sales Prediction/traintestdata/y_train.csv')\n",
        "y_test = pd.read_csv('/content/gdrive/MyDrive/Retail Sales Prediction/traintestdata/y_test.csv')\n",
        "comparison_df = pd.read_csv('/content/gdrive/MyDrive/Retail Sales Prediction/traintestdata/comparison_df.csv', index_col=0)\n",
        "\n",
        "#For local runtime\n",
        "# X_train = pd.read_csv('C:/Users/yash.patil/Documents/Python/Retail_Sales_Prediction_Project/X_train.csv', parse_dates=['Date'])\n",
        "# X_test = pd.read_csv('C:/Users/yash.patil/Documents/Python/Retail_Sales_Prediction_Project/X_test.csv', parse_dates=['Date'])\n",
        "# y_train = pd.read_csv('C:/Users/yash.patil/Documents/Python/Retail_Sales_Prediction_Project/y_train.csv')\n",
        "# y_test = pd.read_csv('C:/Users/yash.patil/Documents/Python/Retail_Sales_Prediction_Project/y_test.csv')\n",
        "# comparison_df = pd.read_csv('C:/Users/yash.patil/Documents/Python/Retail_Sales_Prediction_Project/comparison_df.csv')"
      ],
      "metadata": {
        "id": "lH4C1V5p_nIW"
      },
      "execution_count": 24,
      "outputs": []
    },
    {
      "cell_type": "code",
      "source": [
        "#Setting date and store as index\n",
        "X_train.set_index(['Date','Store'],inplace=True)\n",
        "X_test.set_index(['Date','Store'],inplace=True)\n",
        "y_train.set_index(['Date','Store'],inplace=True)\n",
        "y_test.set_index(['Date','Store'],inplace=True)"
      ],
      "metadata": {
        "id": "PvXkpyESAZWk"
      },
      "execution_count": 25,
      "outputs": []
    },
    {
      "cell_type": "code",
      "source": [
        "#Scaling the data for better model predictions.\n",
        "from sklearn.preprocessing import StandardScaler\n",
        "\n",
        "#Scaling the train and test data.\n",
        "scale = StandardScaler()\n",
        "X_train[list(X_train.columns)] = scale.fit_transform(X_train[list(X_train.columns)])\n",
        "X_test[list(X_test.columns)] = scale.transform(X_test[list(X_test.columns)])\n",
        "\n",
        "scaler = StandardScaler()\n",
        "y_train[list(y_train.columns)] = scaler.fit_transform(y_train[list(y_train.columns)])\n",
        "y_test[list(y_test.columns)] = scaler.transform(y_test[list(y_train.columns)])"
      ],
      "metadata": {
        "id": "f5i1lTVmaPVs"
      },
      "execution_count": 26,
      "outputs": []
    },
    {
      "cell_type": "code",
      "source": [
        "#Creating a method for model evaluation that gives us the calculated metrics.\n",
        "def model_eval(model, model_name):\n",
        "  #making predictions\n",
        "  y_pred_train = model.predict(X_train)\n",
        "  y_pred_test = model.predict(X_test)\n",
        "\n",
        "  #Calculating metrices\n",
        "  #Mean Absolute Error\n",
        "  MAE_train = round(mean_absolute_error(y_train,y_pred_train),4)\n",
        "  MAE_test = round(mean_absolute_error(y_test,y_pred_test),4) \n",
        "  #Mean Squared Error \n",
        "  MSE_train = round(mean_squared_error(y_train,y_pred_train),4)\n",
        "  MSE_test = round(mean_squared_error(y_test,y_pred_test),4)\n",
        "  #Root Mean Squared Error \n",
        "  RMSE_train = round(mean_squared_error(y_train,y_pred_train,squared=False),6)\n",
        "  RMSE_test = round(mean_squared_error(y_test,y_pred_test,squared=False),6)\n",
        "  #R2\n",
        "  R2_train = round(r2_score(y_train, y_pred_train),6)\n",
        "  R2_test = round(r2_score(y_test, y_pred_test),6)\n",
        "  #Adjusted R2\n",
        "  n1 = len(y_train)\n",
        "  n2 = len(y_test)\n",
        "  k1 = X_train.shape[1]\n",
        "  k2 = X_test.shape[1]\n",
        "  Adj_r2_train = round(1 - (1-R2_train) * (n1-1) / (n1-k1-1), 4)\n",
        "  Adj_r2_test = round(1 - (1-R2_test) * (n2-1) / (n2-k2-1), 4)\n",
        "\n",
        "  #Printing the results\n",
        "  print(f'The Mean Absolute Error for the validation set is {MAE_test}')\n",
        "  print(f'The Mean Squared Error for the validation set is {MSE_test}')\n",
        "  print(f'The Root Mean Squared Error for the validation set is {RMSE_test}')\n",
        "  print(f'The R^2 for the validation set is {R2_test}')\n",
        "  print(f'The Adjusted R^2 for the validation set is {Adj_r2_test}')\n",
        "\n",
        "  #plotting the predictions\n",
        "  y_true = y_test.copy()\n",
        "  y_true['Pred Sales'] = y_pred_test.tolist()\n",
        "  df_plot = y_true.reset_index(level=['Date']).groupby('Date')['Sales','Pred Sales'].sum()\n",
        "  ax = sns.lineplot(data=df_plot)\n",
        "  ax.xaxis.set_major_locator(plt.MaxNLocator(10))\n",
        "  # sns.lineplot(data = df_plot)\n",
        "  plt.ylabel(\"Total Sales and Predicted Sales\")\n",
        "  plt.xticks(rotation = 15)\n",
        "\n",
        "  #Saving our results\n",
        "  metric_scores = [model_name,MAE_train,MSE_train,RMSE_train,R2_train,Adj_r2_train,MAE_test,MSE_test,RMSE_test,R2_test,Adj_r2_test]\n",
        "  return metric_scores"
      ],
      "metadata": {
        "id": "7B8NMEaxqA9y"
      },
      "execution_count": 27,
      "outputs": []
    },
    {
      "cell_type": "markdown",
      "source": [
        "###Note: \n",
        "Random Forest Hyperparamater Tuning and fitting to the dataset was taking large amount of RAM and the session was getting crashed. Therefore, Hyperparameter Tuning XGB Regressor because it is an ensemble learning method for gradient boosting decision trees."
      ],
      "metadata": {
        "id": "9hie4CiHYWvY"
      }
    },
    {
      "cell_type": "markdown",
      "source": [
        "###XGBoost (eXtreme Gradient Boosting) Hyperparameter Tuning\n",
        "\n",
        "XGBoost (eXtreme Gradient Boosting) is designed to be highly efficient and flexible, and is particularly useful for large-scale datasets and high-dimensional problems.\n",
        "\n",
        "The XGBoost algorithm is based on the idea of boosting, which is a technique that combines several weak learners to create a single, powerful model. The weak learners in XGBoost are decision trees, and the algorithm iteratively adds new trees to the ensemble, each one correcting the errors of the previous trees."
      ],
      "metadata": {
        "id": "f6BfstvRWTCv"
      }
    },
    {
      "cell_type": "code",
      "source": [
        "#Initializing XGBRegressor for hyperparameter tuning.\n",
        "xgb = XGBRegressor(tree_method='gpu_hist')"
      ],
      "metadata": {
        "id": "XG1Us9Bsa-7K"
      },
      "execution_count": 28,
      "outputs": []
    },
    {
      "cell_type": "code",
      "source": [
        "# Define the parameter distribution for the hyperparameter search\n",
        "param_dist = {\n",
        "    'learning_rate': uniform(0.01, 0.2),\n",
        "    'max_depth': randint(1, 11),\n",
        "    'subsample': uniform(0.5, 0.5),\n",
        "    'colsample_bytree': uniform(0.5, 0.5),\n",
        "    'reg_alpha': uniform(0, 2),\n",
        "}\n",
        "\n",
        "print(param_dist)"
      ],
      "metadata": {
        "colab": {
          "base_uri": "https://localhost:8080/"
        },
        "id": "40KWj1PYbveo",
        "outputId": "a12c8727-027b-419a-df7c-85f2a0318252"
      },
      "execution_count": 29,
      "outputs": [
        {
          "output_type": "stream",
          "name": "stdout",
          "text": [
            "{'learning_rate': <scipy.stats._distn_infrastructure.rv_frozen object at 0x7fd33d2a0130>, 'max_depth': <scipy.stats._distn_infrastructure.rv_frozen object at 0x7fd33d250640>, 'subsample': <scipy.stats._distn_infrastructure.rv_frozen object at 0x7fd365a47940>, 'colsample_bytree': <scipy.stats._distn_infrastructure.rv_frozen object at 0x7fd365a47d90>, 'reg_alpha': <scipy.stats._distn_infrastructure.rv_frozen object at 0x7fd33d261c40>}\n"
          ]
        }
      ]
    },
    {
      "cell_type": "code",
      "source": [
        "#Feeding the param_grid to the model\n",
        "XGB_random_search = RandomizedSearchCV(estimator=xgb, param_distributions=param_dist, n_iter=20, cv=3, random_state=42, n_jobs=-1)\n",
        "#Fit the random search model\n",
        "XGB_random_search.fit(X_train,y_train)\n",
        "XGB_random_search.best_params_"
      ],
      "metadata": {
        "colab": {
          "base_uri": "https://localhost:8080/"
        },
        "id": "H0miUOmxdqOx",
        "outputId": "2515d9eb-829b-4cba-9d86-e116ee7f38d2"
      },
      "execution_count": 30,
      "outputs": [
        {
          "output_type": "stream",
          "name": "stdout",
          "text": [
            "[09:45:26] WARNING: /workspace/src/objective/regression_obj.cu:152: reg:linear is now deprecated in favor of reg:squarederror.\n"
          ]
        },
        {
          "output_type": "execute_result",
          "data": {
            "text/plain": [
              "{'colsample_bytree': 0.645614570099021,\n",
              " 'learning_rate': 0.1323705789444759,\n",
              " 'max_depth': 10,\n",
              " 'reg_alpha': 0.09333132642723085,\n",
              " 'subsample': 0.9868777594207296}"
            ]
          },
          "metadata": {},
          "execution_count": 30
        }
      ]
    },
    {
      "cell_type": "code",
      "source": [
        "comparison_df"
      ],
      "metadata": {
        "colab": {
          "base_uri": "https://localhost:8080/",
          "height": 112
        },
        "id": "mc_iQMijcesa",
        "outputId": "754652ea-2d64-479b-e95e-53f37d9c2269"
      },
      "execution_count": 31,
      "outputs": [
        {
          "output_type": "execute_result",
          "data": {
            "text/plain": [
              "                Model_Name  Train_MAE  Train_MSE  Train_RMSE  Train_R2  \\\n",
              "0  Decision Tree Regressor     0.0000     0.0000      0.0011    1.0000   \n",
              "1  Random Forest Regressor     0.0472     0.0041      0.0640    0.9959   \n",
              "\n",
              "   Train_Adj_R2  Test_MAE  Test_MSE  Test_RMSE  Test_R2  Test_Adj_R2  \n",
              "0        1.0000    0.1982    0.0748     0.2735   0.9206       0.9206  \n",
              "1        0.9959    0.1576    0.0446     0.2111   0.9527       0.9527  "
            ],
            "text/html": [
              "\n",
              "  <div id=\"df-dc21f126-6707-40e5-aeee-e21081891d94\">\n",
              "    <div class=\"colab-df-container\">\n",
              "      <div>\n",
              "<style scoped>\n",
              "    .dataframe tbody tr th:only-of-type {\n",
              "        vertical-align: middle;\n",
              "    }\n",
              "\n",
              "    .dataframe tbody tr th {\n",
              "        vertical-align: top;\n",
              "    }\n",
              "\n",
              "    .dataframe thead th {\n",
              "        text-align: right;\n",
              "    }\n",
              "</style>\n",
              "<table border=\"1\" class=\"dataframe\">\n",
              "  <thead>\n",
              "    <tr style=\"text-align: right;\">\n",
              "      <th></th>\n",
              "      <th>Model_Name</th>\n",
              "      <th>Train_MAE</th>\n",
              "      <th>Train_MSE</th>\n",
              "      <th>Train_RMSE</th>\n",
              "      <th>Train_R2</th>\n",
              "      <th>Train_Adj_R2</th>\n",
              "      <th>Test_MAE</th>\n",
              "      <th>Test_MSE</th>\n",
              "      <th>Test_RMSE</th>\n",
              "      <th>Test_R2</th>\n",
              "      <th>Test_Adj_R2</th>\n",
              "    </tr>\n",
              "  </thead>\n",
              "  <tbody>\n",
              "    <tr>\n",
              "      <th>0</th>\n",
              "      <td>Decision Tree Regressor</td>\n",
              "      <td>0.0000</td>\n",
              "      <td>0.0000</td>\n",
              "      <td>0.0011</td>\n",
              "      <td>1.0000</td>\n",
              "      <td>1.0000</td>\n",
              "      <td>0.1982</td>\n",
              "      <td>0.0748</td>\n",
              "      <td>0.2735</td>\n",
              "      <td>0.9206</td>\n",
              "      <td>0.9206</td>\n",
              "    </tr>\n",
              "    <tr>\n",
              "      <th>1</th>\n",
              "      <td>Random Forest Regressor</td>\n",
              "      <td>0.0472</td>\n",
              "      <td>0.0041</td>\n",
              "      <td>0.0640</td>\n",
              "      <td>0.9959</td>\n",
              "      <td>0.9959</td>\n",
              "      <td>0.1576</td>\n",
              "      <td>0.0446</td>\n",
              "      <td>0.2111</td>\n",
              "      <td>0.9527</td>\n",
              "      <td>0.9527</td>\n",
              "    </tr>\n",
              "  </tbody>\n",
              "</table>\n",
              "</div>\n",
              "      <button class=\"colab-df-convert\" onclick=\"convertToInteractive('df-dc21f126-6707-40e5-aeee-e21081891d94')\"\n",
              "              title=\"Convert this dataframe to an interactive table.\"\n",
              "              style=\"display:none;\">\n",
              "        \n",
              "  <svg xmlns=\"http://www.w3.org/2000/svg\" height=\"24px\"viewBox=\"0 0 24 24\"\n",
              "       width=\"24px\">\n",
              "    <path d=\"M0 0h24v24H0V0z\" fill=\"none\"/>\n",
              "    <path d=\"M18.56 5.44l.94 2.06.94-2.06 2.06-.94-2.06-.94-.94-2.06-.94 2.06-2.06.94zm-11 1L8.5 8.5l.94-2.06 2.06-.94-2.06-.94L8.5 2.5l-.94 2.06-2.06.94zm10 10l.94 2.06.94-2.06 2.06-.94-2.06-.94-.94-2.06-.94 2.06-2.06.94z\"/><path d=\"M17.41 7.96l-1.37-1.37c-.4-.4-.92-.59-1.43-.59-.52 0-1.04.2-1.43.59L10.3 9.45l-7.72 7.72c-.78.78-.78 2.05 0 2.83L4 21.41c.39.39.9.59 1.41.59.51 0 1.02-.2 1.41-.59l7.78-7.78 2.81-2.81c.8-.78.8-2.07 0-2.86zM5.41 20L4 18.59l7.72-7.72 1.47 1.35L5.41 20z\"/>\n",
              "  </svg>\n",
              "      </button>\n",
              "      \n",
              "  <style>\n",
              "    .colab-df-container {\n",
              "      display:flex;\n",
              "      flex-wrap:wrap;\n",
              "      gap: 12px;\n",
              "    }\n",
              "\n",
              "    .colab-df-convert {\n",
              "      background-color: #E8F0FE;\n",
              "      border: none;\n",
              "      border-radius: 50%;\n",
              "      cursor: pointer;\n",
              "      display: none;\n",
              "      fill: #1967D2;\n",
              "      height: 32px;\n",
              "      padding: 0 0 0 0;\n",
              "      width: 32px;\n",
              "    }\n",
              "\n",
              "    .colab-df-convert:hover {\n",
              "      background-color: #E2EBFA;\n",
              "      box-shadow: 0px 1px 2px rgba(60, 64, 67, 0.3), 0px 1px 3px 1px rgba(60, 64, 67, 0.15);\n",
              "      fill: #174EA6;\n",
              "    }\n",
              "\n",
              "    [theme=dark] .colab-df-convert {\n",
              "      background-color: #3B4455;\n",
              "      fill: #D2E3FC;\n",
              "    }\n",
              "\n",
              "    [theme=dark] .colab-df-convert:hover {\n",
              "      background-color: #434B5C;\n",
              "      box-shadow: 0px 1px 3px 1px rgba(0, 0, 0, 0.15);\n",
              "      filter: drop-shadow(0px 1px 2px rgba(0, 0, 0, 0.3));\n",
              "      fill: #FFFFFF;\n",
              "    }\n",
              "  </style>\n",
              "\n",
              "      <script>\n",
              "        const buttonEl =\n",
              "          document.querySelector('#df-dc21f126-6707-40e5-aeee-e21081891d94 button.colab-df-convert');\n",
              "        buttonEl.style.display =\n",
              "          google.colab.kernel.accessAllowed ? 'block' : 'none';\n",
              "\n",
              "        async function convertToInteractive(key) {\n",
              "          const element = document.querySelector('#df-dc21f126-6707-40e5-aeee-e21081891d94');\n",
              "          const dataTable =\n",
              "            await google.colab.kernel.invokeFunction('convertToInteractive',\n",
              "                                                     [key], {});\n",
              "          if (!dataTable) return;\n",
              "\n",
              "          const docLinkHtml = 'Like what you see? Visit the ' +\n",
              "            '<a target=\"_blank\" href=https://colab.research.google.com/notebooks/data_table.ipynb>data table notebook</a>'\n",
              "            + ' to learn more about interactive tables.';\n",
              "          element.innerHTML = '';\n",
              "          dataTable['output_type'] = 'display_data';\n",
              "          await google.colab.output.renderOutput(dataTable, element);\n",
              "          const docLink = document.createElement('div');\n",
              "          docLink.innerHTML = docLinkHtml;\n",
              "          element.appendChild(docLink);\n",
              "        }\n",
              "      </script>\n",
              "    </div>\n",
              "  </div>\n",
              "  "
            ]
          },
          "metadata": {},
          "execution_count": 31
        }
      ]
    },
    {
      "cell_type": "code",
      "source": [
        "#Evaluating the trained model \n",
        "XGBRegressor_tuned = model_eval(XGB_random_search, 'XGBRegressor Tuned')\n",
        "#Saving the evaluated metrics onto the comparison_df\n",
        "comparison_df = comparison_df.append(pd.DataFrame([XGBRegressor_tuned], columns=comparison_df.columns), ignore_index=True)"
      ],
      "metadata": {
        "colab": {
          "base_uri": "https://localhost:8080/",
          "height": 570
        },
        "id": "-Xo3J7KrYGDZ",
        "outputId": "b9f93a16-ebb2-4219-f730-f21a6ad82e47"
      },
      "execution_count": 32,
      "outputs": [
        {
          "output_type": "stream",
          "name": "stdout",
          "text": [
            "The Mean Absolute Error for the validation set is 0.1568\n",
            "The Mean Squared Error for the validation set is 0.042\n",
            "The Root Mean Squared Error for the validation set is 0.204906\n",
            "The R^2 for the validation set is 0.955427\n",
            "The Adjusted R^2 for the validation set is 0.9554\n"
          ]
        },
        {
          "output_type": "display_data",
          "data": {
            "text/plain": [
              "<Figure size 800x500 with 1 Axes>"
            ],
            "image/png": "[encoded data removed]"
          },
          "metadata": {
            "needs_background": "light"
          }
        }
      ]
    },
    {
      "cell_type": "markdown",
      "source": [
        "###Pickling the model :) "
      ],
      "metadata": {
        "id": "ijzpTNMfdmDx"
      }
    },
    {
      "cell_type": "code",
      "source": [
        "#Saving the trained Decesion Tree Regressor model on the drive\n",
        "pickle.dump(XGB_random_search, open(\"/content/gdrive/MyDrive/Retail Sales Prediction/XGBRegressor_Tuned_Model.pkl\", \"wb\"))"
      ],
      "metadata": {
        "id": "ouk9DARldmEI"
      },
      "execution_count": 33,
      "outputs": []
    },
    {
      "cell_type": "code",
      "source": [
        "#Our final comparison_df\n",
        "comparison_df"
      ],
      "metadata": {
        "id": "thn8CYSUELAC",
        "colab": {
          "base_uri": "https://localhost:8080/",
          "height": 143
        },
        "outputId": "0cbd228c-a25c-47c7-b44a-9999dba7164c"
      },
      "execution_count": 34,
      "outputs": [
        {
          "output_type": "execute_result",
          "data": {
            "text/plain": [
              "                Model_Name  Train_MAE  Train_MSE  Train_RMSE  Train_R2  \\\n",
              "0  Decision Tree Regressor     0.0000     0.0000    0.001100  1.000000   \n",
              "1  Random Forest Regressor     0.0472     0.0041    0.064000  0.995900   \n",
              "2       XGBRegressor Tuned     0.1237     0.0266    0.163118  0.973392   \n",
              "\n",
              "   Train_Adj_R2  Test_MAE  Test_MSE  Test_RMSE   Test_R2  Test_Adj_R2  \n",
              "0        1.0000    0.1982    0.0748   0.273500  0.920600       0.9206  \n",
              "1        0.9959    0.1576    0.0446   0.211100  0.952700       0.9527  \n",
              "2        0.9734    0.1568    0.0420   0.204906  0.955427       0.9554  "
            ],
            "text/html": [
              "\n",
              "  <div id=\"df-4579919b-acd9-4010-873c-19abc90eae54\">\n",
              "    <div class=\"colab-df-container\">\n",
              "      <div>\n",
              "<style scoped>\n",
              "    .dataframe tbody tr th:only-of-type {\n",
              "        vertical-align: middle;\n",
              "    }\n",
              "\n",
              "    .dataframe tbody tr th {\n",
              "        vertical-align: top;\n",
              "    }\n",
              "\n",
              "    .dataframe thead th {\n",
              "        text-align: right;\n",
              "    }\n",
              "</style>\n",
              "<table border=\"1\" class=\"dataframe\">\n",
              "  <thead>\n",
              "    <tr style=\"text-align: right;\">\n",
              "      <th></th>\n",
              "      <th>Model_Name</th>\n",
              "      <th>Train_MAE</th>\n",
              "      <th>Train_MSE</th>\n",
              "      <th>Train_RMSE</th>\n",
              "      <th>Train_R2</th>\n",
              "      <th>Train_Adj_R2</th>\n",
              "      <th>Test_MAE</th>\n",
              "      <th>Test_MSE</th>\n",
              "      <th>Test_RMSE</th>\n",
              "      <th>Test_R2</th>\n",
              "      <th>Test_Adj_R2</th>\n",
              "    </tr>\n",
              "  </thead>\n",
              "  <tbody>\n",
              "    <tr>\n",
              "      <th>0</th>\n",
              "      <td>Decision Tree Regressor</td>\n",
              "      <td>0.0000</td>\n",
              "      <td>0.0000</td>\n",
              "      <td>0.001100</td>\n",
              "      <td>1.000000</td>\n",
              "      <td>1.0000</td>\n",
              "      <td>0.1982</td>\n",
              "      <td>0.0748</td>\n",
              "      <td>0.273500</td>\n",
              "      <td>0.920600</td>\n",
              "      <td>0.9206</td>\n",
              "    </tr>\n",
              "    <tr>\n",
              "      <th>1</th>\n",
              "      <td>Random Forest Regressor</td>\n",
              "      <td>0.0472</td>\n",
              "      <td>0.0041</td>\n",
              "      <td>0.064000</td>\n",
              "      <td>0.995900</td>\n",
              "      <td>0.9959</td>\n",
              "      <td>0.1576</td>\n",
              "      <td>0.0446</td>\n",
              "      <td>0.211100</td>\n",
              "      <td>0.952700</td>\n",
              "      <td>0.9527</td>\n",
              "    </tr>\n",
              "    <tr>\n",
              "      <th>2</th>\n",
              "      <td>XGBRegressor Tuned</td>\n",
              "      <td>0.1237</td>\n",
              "      <td>0.0266</td>\n",
              "      <td>0.163118</td>\n",
              "      <td>0.973392</td>\n",
              "      <td>0.9734</td>\n",
              "      <td>0.1568</td>\n",
              "      <td>0.0420</td>\n",
              "      <td>0.204906</td>\n",
              "      <td>0.955427</td>\n",
              "      <td>0.9554</td>\n",
              "    </tr>\n",
              "  </tbody>\n",
              "</table>\n",
              "</div>\n",
              "      <button class=\"colab-df-convert\" onclick=\"convertToInteractive('df-4579919b-acd9-4010-873c-19abc90eae54')\"\n",
              "              title=\"Convert this dataframe to an interactive table.\"\n",
              "              style=\"display:none;\">\n",
              "        \n",
              "  <svg xmlns=\"http://www.w3.org/2000/svg\" height=\"24px\"viewBox=\"0 0 24 24\"\n",
              "       width=\"24px\">\n",
              "    <path d=\"M0 0h24v24H0V0z\" fill=\"none\"/>\n",
              "    <path d=\"M18.56 5.44l.94 2.06.94-2.06 2.06-.94-2.06-.94-.94-2.06-.94 2.06-2.06.94zm-11 1L8.5 8.5l.94-2.06 2.06-.94-2.06-.94L8.5 2.5l-.94 2.06-2.06.94zm10 10l.94 2.06.94-2.06 2.06-.94-2.06-.94-.94-2.06-.94 2.06-2.06.94z\"/><path d=\"M17.41 7.96l-1.37-1.37c-.4-.4-.92-.59-1.43-.59-.52 0-1.04.2-1.43.59L10.3 9.45l-7.72 7.72c-.78.78-.78 2.05 0 2.83L4 21.41c.39.39.9.59 1.41.59.51 0 1.02-.2 1.41-.59l7.78-7.78 2.81-2.81c.8-.78.8-2.07 0-2.86zM5.41 20L4 18.59l7.72-7.72 1.47 1.35L5.41 20z\"/>\n",
              "  </svg>\n",
              "      </button>\n",
              "      \n",
              "  <style>\n",
              "    .colab-df-container {\n",
              "      display:flex;\n",
              "      flex-wrap:wrap;\n",
              "      gap: 12px;\n",
              "    }\n",
              "\n",
              "    .colab-df-convert {\n",
              "      background-color: #E8F0FE;\n",
              "      border: none;\n",
              "      border-radius: 50%;\n",
              "      cursor: pointer;\n",
              "      display: none;\n",
              "      fill: #1967D2;\n",
              "      height: 32px;\n",
              "      padding: 0 0 0 0;\n",
              "      width: 32px;\n",
              "    }\n",
              "\n",
              "    .colab-df-convert:hover {\n",
              "      background-color: #E2EBFA;\n",
              "      box-shadow: 0px 1px 2px rgba(60, 64, 67, 0.3), 0px 1px 3px 1px rgba(60, 64, 67, 0.15);\n",
              "      fill: #174EA6;\n",
              "    }\n",
              "\n",
              "    [theme=dark] .colab-df-convert {\n",
              "      background-color: #3B4455;\n",
              "      fill: #D2E3FC;\n",
              "    }\n",
              "\n",
              "    [theme=dark] .colab-df-convert:hover {\n",
              "      background-color: #434B5C;\n",
              "      box-shadow: 0px 1px 3px 1px rgba(0, 0, 0, 0.15);\n",
              "      filter: drop-shadow(0px 1px 2px rgba(0, 0, 0, 0.3));\n",
              "      fill: #FFFFFF;\n",
              "    }\n",
              "  </style>\n",
              "\n",
              "      <script>\n",
              "        const buttonEl =\n",
              "          document.querySelector('#df-4579919b-acd9-4010-873c-19abc90eae54 button.colab-df-convert');\n",
              "        buttonEl.style.display =\n",
              "          google.colab.kernel.accessAllowed ? 'block' : 'none';\n",
              "\n",
              "        async function convertToInteractive(key) {\n",
              "          const element = document.querySelector('#df-4579919b-acd9-4010-873c-19abc90eae54');\n",
              "          const dataTable =\n",
              "            await google.colab.kernel.invokeFunction('convertToInteractive',\n",
              "                                                     [key], {});\n",
              "          if (!dataTable) return;\n",
              "\n",
              "          const docLinkHtml = 'Like what you see? Visit the ' +\n",
              "            '<a target=\"_blank\" href=https://colab.research.google.com/notebooks/data_table.ipynb>data table notebook</a>'\n",
              "            + ' to learn more about interactive tables.';\n",
              "          element.innerHTML = '';\n",
              "          dataTable['output_type'] = 'display_data';\n",
              "          await google.colab.output.renderOutput(dataTable, element);\n",
              "          const docLink = document.createElement('div');\n",
              "          docLink.innerHTML = docLinkHtml;\n",
              "          element.appendChild(docLink);\n",
              "        }\n",
              "      </script>\n",
              "    </div>\n",
              "  </div>\n",
              "  "
            ]
          },
          "metadata": {},
          "execution_count": 34
        }
      ]
    },
    {
      "cell_type": "code",
      "source": [
        "#Saving final comparison_df to drive\n",
        "comparison_df.to_csv('/content/gdrive/MyDrive/Retail Sales Prediction/traintestdata/comparison_df.csv')"
      ],
      "metadata": {
        "id": "WwghfxBPsFhG"
      },
      "execution_count": 35,
      "outputs": []
    },
    {
      "cell_type": "markdown",
      "source": [
        "###Model Improvement  "
      ],
      "metadata": {
        "id": "9VfjOV03hafH"
      }
    },
    {
      "cell_type": "code",
      "source": [
        "# Calculate the improvement of the last model over the previous model\n",
        "XGB_over_RF = (comparison_df['Test_R2'].iloc[-1] - comparison_df['Test_R2'].iloc[-2]) / comparison_df['Test_R2'].iloc[-2]\n",
        "# Print the improvement percentage\n",
        "print(\"The XGB Regressor Tuned model has improved the Test_R2 score by {:.2f} % over the Random Forest model.\".format(XGB_over_RF*100))"
      ],
      "metadata": {
        "colab": {
          "base_uri": "https://localhost:8080/"
        },
        "id": "FjlzPu9Cdr8H",
        "outputId": "05c3b27a-aa39-464f-9124-b3d10120a8a5"
      },
      "execution_count": 45,
      "outputs": [
        {
          "output_type": "stream",
          "name": "stdout",
          "text": [
            "The XGB Regressor Tuned model has improved the Test_R2 score by 0.29 % over the Random Forest model.\n"
          ]
        }
      ]
    },
    {
      "cell_type": "code",
      "source": [
        "# Calculate the improvement of the last model over the previous model\n",
        "RF_over_DT = (comparison_df['Test_R2'].iloc[-2] - comparison_df['Test_R2'].iloc[-3]) / comparison_df['Test_R2'].iloc[-3]\n",
        "# Print the improvement percentage\n",
        "print(\"The Random Forest model has improved the Test_R2 score by {:.2f} % over the Decision Tree model.\".format(RF_over_DT*100))"
      ],
      "metadata": {
        "colab": {
          "base_uri": "https://localhost:8080/"
        },
        "id": "As9EYuMWiIKv",
        "outputId": "1e08c739-81b8-4d95-8aaa-ef6dbf9694b4"
      },
      "execution_count": 47,
      "outputs": [
        {
          "output_type": "stream",
          "name": "stdout",
          "text": [
            "The Random Forest model has improved the Test_R2 score by 3.49 % over the Decision Tree model.\n"
          ]
        }
      ]
    },
    {
      "cell_type": "markdown",
      "source": [
        "###Visualizing improvements that we achieved model after model."
      ],
      "metadata": {
        "id": "sTvnfSgrTIA2"
      }
    },
    {
      "cell_type": "code",
      "source": [
        "#Visualising our comparison_df for Test_R2\n",
        "sns.barplot(x = comparison_df['Model_Name'], y = comparison_df['Test_R2'])"
      ],
      "metadata": {
        "id": "fbdULLTVwfR4",
        "colab": {
          "base_uri": "https://localhost:8080/",
          "height": 480
        },
        "outputId": "6ad6d5f3-4db2-41a8-f04f-d1432018c1fb"
      },
      "execution_count": 36,
      "outputs": [
        {
          "output_type": "execute_result",
          "data": {
            "text/plain": [
              "<matplotlib.axes._subplots.AxesSubplot at 0x7fd33c6a9310>"
            ]
          },
          "metadata": {},
          "execution_count": 36
        },
        {
          "output_type": "display_data",
          "data": {
            "text/plain": [
              "<Figure size 800x500 with 1 Axes>"
            ],
            "image/png": "[encoded data removed]"
          },
          "metadata": {
            "needs_background": "light"
          }
        }
      ]
    },
    {
      "cell_type": "markdown",
      "source": [
        "Observation: \n",
        "\n",
        "In this case, the Random Forest model has a Test_R2 score of 0.9527, which is 3.49% higher than the Decision Tree model's score of 0.920600. This suggests that the Random Forest model is able to make better predictions than the Decision Tree model.\n",
        "\n",
        "On the other hand, the XGB Regressor Tuned model has a Test_R2 score of 0.955427, which is 0.29% higher than the Random Forest model's score of 0.9527. This suggests that the XGB Regressor Tuned model is able to make slightly better predictions than the Random Forest model. However, the difference is small and may not be significant for all use cases. Therefore, it would be necessary to analyze other performance metrics and evaluate the trade-offs between the different models to determine which one is best suited for a particular task.\n",
        "\n",
        "\n",
        "\n",
        "\n"
      ],
      "metadata": {
        "id": "OqbiAJOKSudH"
      }
    },
    {
      "cell_type": "markdown",
      "source": [
        "###Predictions of sales by store."
      ],
      "metadata": {
        "id": "3CyiXcm90C5Q"
      }
    },
    {
      "cell_type": "code",
      "execution_count": 37,
      "metadata": {
        "id": "D5zFmr2g1E1p"
      },
      "outputs": [],
      "source": [
        "#Making predictions to determine the store sales\n",
        "y_pred_test = XGB_random_search.predict(X_test)\n",
        "store_sales = y_test.copy()\n",
        "store_sales['Pred_Sales'] = y_pred_test.tolist()"
      ]
    },
    {
      "cell_type": "code",
      "execution_count": 38,
      "metadata": {
        "id": "oKwtvUjc1wuD"
      },
      "outputs": [],
      "source": [
        "#inverse_transforming the sales and predicited sales column\n",
        "store_sales[store_sales.columns.tolist()] = scaler.inverse_transform(store_sales[store_sales.columns.tolist()])"
      ]
    },
    {
      "cell_type": "code",
      "source": [
        "#Inversing the Logarithmic transformation made on the dataset in part 1 so that we get originl sales values\n",
        "store_sales[store_sales.columns.tolist()] = np.exp(store_sales[store_sales.columns.tolist()])"
      ],
      "metadata": {
        "id": "PdVbQ-avoXbu"
      },
      "execution_count": 39,
      "outputs": []
    },
    {
      "cell_type": "code",
      "source": [
        "#sales vs predictions\n",
        "store_sales.head()"
      ],
      "metadata": {
        "id": "vEe3w0H4NSG0",
        "colab": {
          "base_uri": "https://localhost:8080/",
          "height": 237
        },
        "outputId": "d0ed47d8-ad68-429e-81e2-9c40e251a162"
      },
      "execution_count": 40,
      "outputs": [
        {
          "output_type": "execute_result",
          "data": {
            "text/plain": [
              "                    Sales    Pred_Sales\n",
              "Date       Store                       \n",
              "2015-06-15 1       5518.0   5543.550942\n",
              "           2       8106.0   7800.246175\n",
              "           3      10818.0  11461.877968\n",
              "           4      12398.0  12559.878484\n",
              "           5       7808.0   7687.400060"
            ],
            "text/html": [
              "\n",
              "  <div id=\"df-eb3e4d66-2c2e-4d65-b68a-617fe3837d40\">\n",
              "    <div class=\"colab-df-container\">\n",
              "      <div>\n",
              "<style scoped>\n",
              "    .dataframe tbody tr th:only-of-type {\n",
              "        vertical-align: middle;\n",
              "    }\n",
              "\n",
              "    .dataframe tbody tr th {\n",
              "        vertical-align: top;\n",
              "    }\n",
              "\n",
              "    .dataframe thead th {\n",
              "        text-align: right;\n",
              "    }\n",
              "</style>\n",
              "<table border=\"1\" class=\"dataframe\">\n",
              "  <thead>\n",
              "    <tr style=\"text-align: right;\">\n",
              "      <th></th>\n",
              "      <th></th>\n",
              "      <th>Sales</th>\n",
              "      <th>Pred_Sales</th>\n",
              "    </tr>\n",
              "    <tr>\n",
              "      <th>Date</th>\n",
              "      <th>Store</th>\n",
              "      <th></th>\n",
              "      <th></th>\n",
              "    </tr>\n",
              "  </thead>\n",
              "  <tbody>\n",
              "    <tr>\n",
              "      <th rowspan=\"5\" valign=\"top\">2015-06-15</th>\n",
              "      <th>1</th>\n",
              "      <td>5518.0</td>\n",
              "      <td>5543.550942</td>\n",
              "    </tr>\n",
              "    <tr>\n",
              "      <th>2</th>\n",
              "      <td>8106.0</td>\n",
              "      <td>7800.246175</td>\n",
              "    </tr>\n",
              "    <tr>\n",
              "      <th>3</th>\n",
              "      <td>10818.0</td>\n",
              "      <td>11461.877968</td>\n",
              "    </tr>\n",
              "    <tr>\n",
              "      <th>4</th>\n",
              "      <td>12398.0</td>\n",
              "      <td>12559.878484</td>\n",
              "    </tr>\n",
              "    <tr>\n",
              "      <th>5</th>\n",
              "      <td>7808.0</td>\n",
              "      <td>7687.400060</td>\n",
              "    </tr>\n",
              "  </tbody>\n",
              "</table>\n",
              "</div>\n",
              "      <button class=\"colab-df-convert\" onclick=\"convertToInteractive('df-eb3e4d66-2c2e-4d65-b68a-617fe3837d40')\"\n",
              "              title=\"Convert this dataframe to an interactive table.\"\n",
              "              style=\"display:none;\">\n",
              "        \n",
              "  <svg xmlns=\"http://www.w3.org/2000/svg\" height=\"24px\"viewBox=\"0 0 24 24\"\n",
              "       width=\"24px\">\n",
              "    <path d=\"M0 0h24v24H0V0z\" fill=\"none\"/>\n",
              "    <path d=\"M18.56 5.44l.94 2.06.94-2.06 2.06-.94-2.06-.94-.94-2.06-.94 2.06-2.06.94zm-11 1L8.5 8.5l.94-2.06 2.06-.94-2.06-.94L8.5 2.5l-.94 2.06-2.06.94zm10 10l.94 2.06.94-2.06 2.06-.94-2.06-.94-.94-2.06-.94 2.06-2.06.94z\"/><path d=\"M17.41 7.96l-1.37-1.37c-.4-.4-.92-.59-1.43-.59-.52 0-1.04.2-1.43.59L10.3 9.45l-7.72 7.72c-.78.78-.78 2.05 0 2.83L4 21.41c.39.39.9.59 1.41.59.51 0 1.02-.2 1.41-.59l7.78-7.78 2.81-2.81c.8-.78.8-2.07 0-2.86zM5.41 20L4 18.59l7.72-7.72 1.47 1.35L5.41 20z\"/>\n",
              "  </svg>\n",
              "      </button>\n",
              "      \n",
              "  <style>\n",
              "    .colab-df-container {\n",
              "      display:flex;\n",
              "      flex-wrap:wrap;\n",
              "      gap: 12px;\n",
              "    }\n",
              "\n",
              "    .colab-df-convert {\n",
              "      background-color: #E8F0FE;\n",
              "      border: none;\n",
              "      border-radius: 50%;\n",
              "      cursor: pointer;\n",
              "      display: none;\n",
              "      fill: #1967D2;\n",
              "      height: 32px;\n",
              "      padding: 0 0 0 0;\n",
              "      width: 32px;\n",
              "    }\n",
              "\n",
              "    .colab-df-convert:hover {\n",
              "      background-color: #E2EBFA;\n",
              "      box-shadow: 0px 1px 2px rgba(60, 64, 67, 0.3), 0px 1px 3px 1px rgba(60, 64, 67, 0.15);\n",
              "      fill: #174EA6;\n",
              "    }\n",
              "\n",
              "    [theme=dark] .colab-df-convert {\n",
              "      background-color: #3B4455;\n",
              "      fill: #D2E3FC;\n",
              "    }\n",
              "\n",
              "    [theme=dark] .colab-df-convert:hover {\n",
              "      background-color: #434B5C;\n",
              "      box-shadow: 0px 1px 3px 1px rgba(0, 0, 0, 0.15);\n",
              "      filter: drop-shadow(0px 1px 2px rgba(0, 0, 0, 0.3));\n",
              "      fill: #FFFFFF;\n",
              "    }\n",
              "  </style>\n",
              "\n",
              "      <script>\n",
              "        const buttonEl =\n",
              "          document.querySelector('#df-eb3e4d66-2c2e-4d65-b68a-617fe3837d40 button.colab-df-convert');\n",
              "        buttonEl.style.display =\n",
              "          google.colab.kernel.accessAllowed ? 'block' : 'none';\n",
              "\n",
              "        async function convertToInteractive(key) {\n",
              "          const element = document.querySelector('#df-eb3e4d66-2c2e-4d65-b68a-617fe3837d40');\n",
              "          const dataTable =\n",
              "            await google.colab.kernel.invokeFunction('convertToInteractive',\n",
              "                                                     [key], {});\n",
              "          if (!dataTable) return;\n",
              "\n",
              "          const docLinkHtml = 'Like what you see? Visit the ' +\n",
              "            '<a target=\"_blank\" href=https://colab.research.google.com/notebooks/data_table.ipynb>data table notebook</a>'\n",
              "            + ' to learn more about interactive tables.';\n",
              "          element.innerHTML = '';\n",
              "          dataTable['output_type'] = 'display_data';\n",
              "          await google.colab.output.renderOutput(dataTable, element);\n",
              "          const docLink = document.createElement('div');\n",
              "          docLink.innerHTML = docLinkHtml;\n",
              "          element.appendChild(docLink);\n",
              "        }\n",
              "      </script>\n",
              "    </div>\n",
              "  </div>\n",
              "  "
            ]
          },
          "metadata": {},
          "execution_count": 40
        }
      ]
    },
    {
      "cell_type": "code",
      "source": [
        "#Checking the expected sales. \n",
        "store_sales.loc[('2015-07-28',50)]"
      ],
      "metadata": {
        "id": "nUYsbETfPIYt",
        "colab": {
          "base_uri": "https://localhost:8080/"
        },
        "outputId": "61d5a846-0b5e-4dad-f31d-09252c6ef19e"
      },
      "execution_count": 41,
      "outputs": [
        {
          "output_type": "execute_result",
          "data": {
            "text/plain": [
              "Sales         5115.000000\n",
              "Pred_Sales    5208.090634\n",
              "Name: (2015-07-28, 50), dtype: float64"
            ]
          },
          "metadata": {},
          "execution_count": 41
        }
      ]
    },
    {
      "cell_type": "markdown",
      "metadata": {
        "id": "j3z_mpZK3IQ8"
      },
      "source": [
        "##Conclusion and Recommendations\n",
        "**Conclusion**\n",
        "\n",
        "Companies use sales predictions to estimate their future revenue, which allows them to make informed decisions and strategic business plans. These plans, such as budgets, hiring, incentives, goals, acquisitions, and growth strategies, are heavily dependent on the projected revenue for the upcoming months. Therefore, accurate sales forecasts are crucial for the success of these plans.\n",
        "\n",
        "This study aims to predict the sales of various Rossmann stores across Europe for the past six weeks, and compares the outcomes of the developed models with the actual sales figures.\n",
        "\n",
        "The analysis yielded several key findings, including:\n",
        "* A higher number of sales were observed on Mondays, likely due to many stores being closed on Sundays and resulting in the lowest sales for that day.\n",
        "* The positive impact of promotions on customer and sales numbers was evident.\n",
        "* Most stores had competition distances within 0-10km, and these stores had higher sales than stores located further away, potentially indicating more competition in busier locations.\n",
        "* Despite having fewer stores, store type B had the highest sales average, likely due to having all three types of assortments, particularly assortment level B, and being open on Sundays.\n",
        "* The Random Forest Tuned Model produced the almost same results as compared to basic Random Forest Model, suggesting that the model captured all relevant trends and patterns without overfitting and achieved the maximum level of performance possible.\n",
        "\n",
        "**Recommendations**\n",
        "* More stores should be encouraged to participate in promotions.\n",
        "* The number of store type B should be increased.\n",
        "* To take advantage of seasonal trends, stores should be encouraged to promote during holidays.\n"
      ]
    }
  ]
}